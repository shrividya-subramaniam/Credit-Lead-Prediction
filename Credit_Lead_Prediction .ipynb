{
 "cells": [
  {
   "cell_type": "markdown",
   "source": [
    "# Credit Lead Prediction"
   ],
   "metadata": {}
  },
  {
   "cell_type": "markdown",
   "source": [
    "## Importing the libraries\n"
   ],
   "metadata": {}
  },
  {
   "cell_type": "code",
   "execution_count": 2,
   "source": [
    "import numpy as np\r\n",
    "import matplotlib.pyplot as plt\r\n",
    "import pandas as pd\r\n",
    "import seaborn as sns"
   ],
   "outputs": [],
   "metadata": {}
  },
  {
   "cell_type": "code",
   "execution_count": 3,
   "source": [
    "import warnings\r\n",
    "warnings.filterwarnings('ignore')"
   ],
   "outputs": [],
   "metadata": {}
  },
  {
   "cell_type": "code",
   "execution_count": 4,
   "source": [
    "# For Encoding\r\n",
    "from sklearn.preprocessing import LabelEncoder\r\n",
    "\r\n",
    "# For Scaling\r\n",
    "from sklearn.preprocessing import MinMaxScaler"
   ],
   "outputs": [],
   "metadata": {}
  },
  {
   "cell_type": "code",
   "execution_count": 5,
   "source": [
    "# For Feature Importance\r\n",
    "from sklearn.datasets import make_classification\r\n",
    "from sklearn.feature_selection import SelectKBest\r\n",
    "from sklearn.feature_selection import f_classif\r\n",
    "  "
   ],
   "outputs": [],
   "metadata": {}
  },
  {
   "cell_type": "code",
   "execution_count": 6,
   "source": [
    "# For Cross Validation\r\n",
    "from sklearn.model_selection import KFold, StratifiedKFold\r\n",
    "from sklearn.metrics import roc_auc_score"
   ],
   "outputs": [],
   "metadata": {}
  },
  {
   "cell_type": "code",
   "execution_count": 7,
   "source": [
    "# For Machine Learning Models\r\n",
    "from sklearn.linear_model import LogisticRegression\r\n",
    "from sklearn.neighbors import KNeighborsClassifier\r\n",
    "from sklearn.ensemble import RandomForestClassifier\r\n",
    "from catboost import CatBoostClassifier\r\n",
    "from xgboost import XGBClassifier\r\n",
    "from lightgbm import LGBMClassifier"
   ],
   "outputs": [],
   "metadata": {}
  },
  {
   "cell_type": "markdown",
   "source": [
    "## Importing the datasets"
   ],
   "metadata": {}
  },
  {
   "cell_type": "code",
   "execution_count": 8,
   "source": [
    "train = pd.read_csv(\"train.csv\")\r\n",
    "test = pd.read_csv(\"test.csv\")"
   ],
   "outputs": [],
   "metadata": {}
  },
  {
   "cell_type": "markdown",
   "source": [
    "## Data Exploration"
   ],
   "metadata": {}
  },
  {
   "cell_type": "code",
   "execution_count": 9,
   "source": [
    "train.info()"
   ],
   "outputs": [
    {
     "output_type": "stream",
     "name": "stdout",
     "text": [
      "<class 'pandas.core.frame.DataFrame'>\n",
      "RangeIndex: 245725 entries, 0 to 245724\n",
      "Data columns (total 11 columns):\n",
      " #   Column               Non-Null Count   Dtype \n",
      "---  ------               --------------   ----- \n",
      " 0   ID                   245725 non-null  object\n",
      " 1   Gender               245725 non-null  object\n",
      " 2   Age                  245725 non-null  int64 \n",
      " 3   Region_Code          245725 non-null  object\n",
      " 4   Occupation           245725 non-null  object\n",
      " 5   Channel_Code         245725 non-null  object\n",
      " 6   Vintage              245725 non-null  int64 \n",
      " 7   Credit_Product       216400 non-null  object\n",
      " 8   Avg_Account_Balance  245725 non-null  int64 \n",
      " 9   Is_Active            245725 non-null  object\n",
      " 10  Is_Lead              245725 non-null  int64 \n",
      "dtypes: int64(4), object(7)\n",
      "memory usage: 20.6+ MB\n"
     ]
    }
   ],
   "metadata": {}
  },
  {
   "cell_type": "code",
   "execution_count": 10,
   "source": [
    "test.info()"
   ],
   "outputs": [
    {
     "output_type": "stream",
     "name": "stdout",
     "text": [
      "<class 'pandas.core.frame.DataFrame'>\n",
      "RangeIndex: 105312 entries, 0 to 105311\n",
      "Data columns (total 10 columns):\n",
      " #   Column               Non-Null Count   Dtype \n",
      "---  ------               --------------   ----- \n",
      " 0   ID                   105312 non-null  object\n",
      " 1   Gender               105312 non-null  object\n",
      " 2   Age                  105312 non-null  int64 \n",
      " 3   Region_Code          105312 non-null  object\n",
      " 4   Occupation           105312 non-null  object\n",
      " 5   Channel_Code         105312 non-null  object\n",
      " 6   Vintage              105312 non-null  int64 \n",
      " 7   Credit_Product       92790 non-null   object\n",
      " 8   Avg_Account_Balance  105312 non-null  int64 \n",
      " 9   Is_Active            105312 non-null  object\n",
      "dtypes: int64(3), object(7)\n",
      "memory usage: 8.0+ MB\n"
     ]
    }
   ],
   "metadata": {}
  },
  {
   "cell_type": "markdown",
   "source": [
    "All the columns in both train and test dataset are of the right dtype. Column 'Credit_Product' contains missing values in both the datasets. "
   ],
   "metadata": {}
  },
  {
   "cell_type": "code",
   "execution_count": 11,
   "source": [
    "train.describe()"
   ],
   "outputs": [
    {
     "output_type": "execute_result",
     "data": {
      "text/plain": [
       "                 Age        Vintage  Avg_Account_Balance        Is_Lead\n",
       "count  245725.000000  245725.000000         2.457250e+05  245725.000000\n",
       "mean       43.856307      46.959141         1.128403e+06       0.237208\n",
       "std        14.828672      32.353136         8.529364e+05       0.425372\n",
       "min        23.000000       7.000000         2.079000e+04       0.000000\n",
       "25%        30.000000      20.000000         6.043100e+05       0.000000\n",
       "50%        43.000000      32.000000         8.946010e+05       0.000000\n",
       "75%        54.000000      73.000000         1.366666e+06       0.000000\n",
       "max        85.000000     135.000000         1.035201e+07       1.000000"
      ],
      "text/html": [
       "<div>\n",
       "<style scoped>\n",
       "    .dataframe tbody tr th:only-of-type {\n",
       "        vertical-align: middle;\n",
       "    }\n",
       "\n",
       "    .dataframe tbody tr th {\n",
       "        vertical-align: top;\n",
       "    }\n",
       "\n",
       "    .dataframe thead th {\n",
       "        text-align: right;\n",
       "    }\n",
       "</style>\n",
       "<table border=\"1\" class=\"dataframe\">\n",
       "  <thead>\n",
       "    <tr style=\"text-align: right;\">\n",
       "      <th></th>\n",
       "      <th>Age</th>\n",
       "      <th>Vintage</th>\n",
       "      <th>Avg_Account_Balance</th>\n",
       "      <th>Is_Lead</th>\n",
       "    </tr>\n",
       "  </thead>\n",
       "  <tbody>\n",
       "    <tr>\n",
       "      <th>count</th>\n",
       "      <td>245725.000000</td>\n",
       "      <td>245725.000000</td>\n",
       "      <td>2.457250e+05</td>\n",
       "      <td>245725.000000</td>\n",
       "    </tr>\n",
       "    <tr>\n",
       "      <th>mean</th>\n",
       "      <td>43.856307</td>\n",
       "      <td>46.959141</td>\n",
       "      <td>1.128403e+06</td>\n",
       "      <td>0.237208</td>\n",
       "    </tr>\n",
       "    <tr>\n",
       "      <th>std</th>\n",
       "      <td>14.828672</td>\n",
       "      <td>32.353136</td>\n",
       "      <td>8.529364e+05</td>\n",
       "      <td>0.425372</td>\n",
       "    </tr>\n",
       "    <tr>\n",
       "      <th>min</th>\n",
       "      <td>23.000000</td>\n",
       "      <td>7.000000</td>\n",
       "      <td>2.079000e+04</td>\n",
       "      <td>0.000000</td>\n",
       "    </tr>\n",
       "    <tr>\n",
       "      <th>25%</th>\n",
       "      <td>30.000000</td>\n",
       "      <td>20.000000</td>\n",
       "      <td>6.043100e+05</td>\n",
       "      <td>0.000000</td>\n",
       "    </tr>\n",
       "    <tr>\n",
       "      <th>50%</th>\n",
       "      <td>43.000000</td>\n",
       "      <td>32.000000</td>\n",
       "      <td>8.946010e+05</td>\n",
       "      <td>0.000000</td>\n",
       "    </tr>\n",
       "    <tr>\n",
       "      <th>75%</th>\n",
       "      <td>54.000000</td>\n",
       "      <td>73.000000</td>\n",
       "      <td>1.366666e+06</td>\n",
       "      <td>0.000000</td>\n",
       "    </tr>\n",
       "    <tr>\n",
       "      <th>max</th>\n",
       "      <td>85.000000</td>\n",
       "      <td>135.000000</td>\n",
       "      <td>1.035201e+07</td>\n",
       "      <td>1.000000</td>\n",
       "    </tr>\n",
       "  </tbody>\n",
       "</table>\n",
       "</div>"
      ]
     },
     "metadata": {},
     "execution_count": 11
    }
   ],
   "metadata": {}
  },
  {
   "cell_type": "code",
   "execution_count": 12,
   "source": [
    "test.describe()"
   ],
   "outputs": [
    {
     "output_type": "execute_result",
     "data": {
      "text/plain": [
       "                 Age        Vintage  Avg_Account_Balance\n",
       "count  105312.000000  105312.000000         1.053120e+05\n",
       "mean       43.871002      46.842819         1.134195e+06\n",
       "std        14.872890      32.273634         8.662430e+05\n",
       "min        24.000000       7.000000         2.259700e+04\n",
       "25%        30.000000      20.000000         6.039822e+05\n",
       "50%        43.000000      32.000000         8.966345e+05\n",
       "75%        54.000000      73.000000         1.371598e+06\n",
       "max        85.000000     135.000000         9.908858e+06"
      ],
      "text/html": [
       "<div>\n",
       "<style scoped>\n",
       "    .dataframe tbody tr th:only-of-type {\n",
       "        vertical-align: middle;\n",
       "    }\n",
       "\n",
       "    .dataframe tbody tr th {\n",
       "        vertical-align: top;\n",
       "    }\n",
       "\n",
       "    .dataframe thead th {\n",
       "        text-align: right;\n",
       "    }\n",
       "</style>\n",
       "<table border=\"1\" class=\"dataframe\">\n",
       "  <thead>\n",
       "    <tr style=\"text-align: right;\">\n",
       "      <th></th>\n",
       "      <th>Age</th>\n",
       "      <th>Vintage</th>\n",
       "      <th>Avg_Account_Balance</th>\n",
       "    </tr>\n",
       "  </thead>\n",
       "  <tbody>\n",
       "    <tr>\n",
       "      <th>count</th>\n",
       "      <td>105312.000000</td>\n",
       "      <td>105312.000000</td>\n",
       "      <td>1.053120e+05</td>\n",
       "    </tr>\n",
       "    <tr>\n",
       "      <th>mean</th>\n",
       "      <td>43.871002</td>\n",
       "      <td>46.842819</td>\n",
       "      <td>1.134195e+06</td>\n",
       "    </tr>\n",
       "    <tr>\n",
       "      <th>std</th>\n",
       "      <td>14.872890</td>\n",
       "      <td>32.273634</td>\n",
       "      <td>8.662430e+05</td>\n",
       "    </tr>\n",
       "    <tr>\n",
       "      <th>min</th>\n",
       "      <td>24.000000</td>\n",
       "      <td>7.000000</td>\n",
       "      <td>2.259700e+04</td>\n",
       "    </tr>\n",
       "    <tr>\n",
       "      <th>25%</th>\n",
       "      <td>30.000000</td>\n",
       "      <td>20.000000</td>\n",
       "      <td>6.039822e+05</td>\n",
       "    </tr>\n",
       "    <tr>\n",
       "      <th>50%</th>\n",
       "      <td>43.000000</td>\n",
       "      <td>32.000000</td>\n",
       "      <td>8.966345e+05</td>\n",
       "    </tr>\n",
       "    <tr>\n",
       "      <th>75%</th>\n",
       "      <td>54.000000</td>\n",
       "      <td>73.000000</td>\n",
       "      <td>1.371598e+06</td>\n",
       "    </tr>\n",
       "    <tr>\n",
       "      <th>max</th>\n",
       "      <td>85.000000</td>\n",
       "      <td>135.000000</td>\n",
       "      <td>9.908858e+06</td>\n",
       "    </tr>\n",
       "  </tbody>\n",
       "</table>\n",
       "</div>"
      ]
     },
     "metadata": {},
     "execution_count": 12
    }
   ],
   "metadata": {}
  },
  {
   "cell_type": "markdown",
   "source": [
    "The values in the variables 'Age', 'Vintage' are well within the normal range. The maximum value for 'Avg_Account_Balance' seems to be quite high. This could be due to millionaires having high account balance with seven figures. "
   ],
   "metadata": {}
  },
  {
   "cell_type": "code",
   "execution_count": 13,
   "source": [
    "max(train['Avg_Account_Balance'])"
   ],
   "outputs": [
    {
     "output_type": "execute_result",
     "data": {
      "text/plain": [
       "10352009"
      ]
     },
     "metadata": {},
     "execution_count": 13
    }
   ],
   "metadata": {}
  },
  {
   "cell_type": "markdown",
   "source": [],
   "metadata": {}
  },
  {
   "cell_type": "markdown",
   "source": [
    "## Data Visualization"
   ],
   "metadata": {}
  },
  {
   "cell_type": "code",
   "execution_count": 14,
   "source": [
    "categorical = ['Gender','Region_Code','Occupation','Channel_Code','Credit_Product','Is_Active']\r\n",
    "train_numerical = train[['Age','Avg_Account_Balance','Vintage']]\r\n",
    "test_numerical = test[['Age','Avg_Account_Balance','Vintage']]"
   ],
   "outputs": [],
   "metadata": {}
  },
  {
   "cell_type": "markdown",
   "source": [
    "### 1. Bar Charts for Categorical Variables "
   ],
   "metadata": {}
  },
  {
   "cell_type": "code",
   "execution_count": 15,
   "source": [
    "\r\n",
    "fig, ax = plt.subplots(2, 3, figsize=(20, 10))\r\n",
    "for variable, subplot in zip(categorical, ax.flatten()):\r\n",
    "    sns.countplot(train[variable], ax=subplot)\r\n",
    "    for label in subplot.get_xticklabels():\r\n",
    "        label.set_rotation(90)\r\n"
   ],
   "outputs": [
    {
     "output_type": "display_data",
     "data": {
      "text/plain": [
       "<Figure size 1440x720 with 6 Axes>"
      ],
      "image/png": "[encoded data removed]"
     },
     "metadata": {
      "needs_background": "light"
     }
    }
   ],
   "metadata": {}
  },
  {
   "cell_type": "markdown",
   "source": [
    "### 2. Histograms for Numerical Variables"
   ],
   "metadata": {}
  },
  {
   "cell_type": "code",
   "execution_count": 16,
   "source": [
    "train_numerical.hist()\r\n",
    "plt.show()"
   ],
   "outputs": [
    {
     "output_type": "display_data",
     "data": {
      "text/plain": [
       "<Figure size 432x288 with 4 Axes>"
      ],
      "image/png": "[encoded data removed]"
     },
     "metadata": {
      "needs_background": "light"
     }
    }
   ],
   "metadata": {}
  },
  {
   "cell_type": "markdown",
   "source": [
    "### 3. Box Plots To Check For Outliers"
   ],
   "metadata": {}
  },
  {
   "cell_type": "code",
   "execution_count": 17,
   "source": [
    "train_numerical.plot(kind='box', subplots=True, layout=(2,2), sharex=False, sharey=False)\r\n",
    "plt.show()"
   ],
   "outputs": [
    {
     "output_type": "display_data",
     "data": {
      "text/plain": [
       "<Figure size 432x288 with 4 Axes>"
      ],
      "image/png": "[encoded data removed]"
     },
     "metadata": {
      "needs_background": "light"
     }
    }
   ],
   "metadata": {}
  },
  {
   "cell_type": "markdown",
   "source": [
    "While 'Age' and 'Vintage' don't show any outliers, it is observed that 'Avg_Acc_Balance' has huge number of outliers. However, these are not outliers. The variable is strongly skewed towards positive values and contains very high numerical values.\n",
    "\n",
    "#### The classes of target variable are imbalanced. "
   ],
   "metadata": {}
  },
  {
   "cell_type": "markdown",
   "source": [
    "### 4. Plot To Check The Target Variable"
   ],
   "metadata": {}
  },
  {
   "cell_type": "code",
   "execution_count": 18,
   "source": [
    "sns.countplot(train['Is_Lead'])"
   ],
   "outputs": [
    {
     "output_type": "execute_result",
     "data": {
      "text/plain": [
       "<AxesSubplot:xlabel='Is_Lead', ylabel='count'>"
      ]
     },
     "metadata": {},
     "execution_count": 18
    },
    {
     "output_type": "display_data",
     "data": {
      "text/plain": [
       "<Figure size 432x288 with 1 Axes>"
      ],
      "image/png": "[encoded data removed]"
     },
     "metadata": {
      "needs_background": "light"
     }
    }
   ],
   "metadata": {}
  },
  {
   "cell_type": "markdown",
   "source": [
    " The classes of target variable are imbalanced. "
   ],
   "metadata": {}
  },
  {
   "cell_type": "code",
   "execution_count": 19,
   "source": [
    "train.isnull().sum()"
   ],
   "outputs": [
    {
     "output_type": "execute_result",
     "data": {
      "text/plain": [
       "ID                         0\n",
       "Gender                     0\n",
       "Age                        0\n",
       "Region_Code                0\n",
       "Occupation                 0\n",
       "Channel_Code               0\n",
       "Vintage                    0\n",
       "Credit_Product         29325\n",
       "Avg_Account_Balance        0\n",
       "Is_Active                  0\n",
       "Is_Lead                    0\n",
       "dtype: int64"
      ]
     },
     "metadata": {},
     "execution_count": 19
    }
   ],
   "metadata": {}
  },
  {
   "cell_type": "markdown",
   "source": [
    "'Credit_Product' column in train dataset contains 29325 missing values."
   ],
   "metadata": {}
  },
  {
   "cell_type": "code",
   "execution_count": 20,
   "source": [
    "test.isnull().sum()"
   ],
   "outputs": [
    {
     "output_type": "execute_result",
     "data": {
      "text/plain": [
       "ID                         0\n",
       "Gender                     0\n",
       "Age                        0\n",
       "Region_Code                0\n",
       "Occupation                 0\n",
       "Channel_Code               0\n",
       "Vintage                    0\n",
       "Credit_Product         12522\n",
       "Avg_Account_Balance        0\n",
       "Is_Active                  0\n",
       "dtype: int64"
      ]
     },
     "metadata": {},
     "execution_count": 20
    }
   ],
   "metadata": {}
  },
  {
   "cell_type": "markdown",
   "source": [
    "'Credit_Product' column in train dataset contains 12522 missing values."
   ],
   "metadata": {}
  },
  {
   "cell_type": "markdown",
   "source": [
    "### Checking for duplicate rows\n"
   ],
   "metadata": {}
  },
  {
   "cell_type": "code",
   "execution_count": 21,
   "source": [
    "# Checking for duplicate rows\r\n",
    "train[train.duplicated(keep = 'last')]\r\n"
   ],
   "outputs": [
    {
     "output_type": "execute_result",
     "data": {
      "text/plain": [
       "Empty DataFrame\n",
       "Columns: [ID, Gender, Age, Region_Code, Occupation, Channel_Code, Vintage, Credit_Product, Avg_Account_Balance, Is_Active, Is_Lead]\n",
       "Index: []"
      ],
      "text/html": [
       "<div>\n",
       "<style scoped>\n",
       "    .dataframe tbody tr th:only-of-type {\n",
       "        vertical-align: middle;\n",
       "    }\n",
       "\n",
       "    .dataframe tbody tr th {\n",
       "        vertical-align: top;\n",
       "    }\n",
       "\n",
       "    .dataframe thead th {\n",
       "        text-align: right;\n",
       "    }\n",
       "</style>\n",
       "<table border=\"1\" class=\"dataframe\">\n",
       "  <thead>\n",
       "    <tr style=\"text-align: right;\">\n",
       "      <th></th>\n",
       "      <th>ID</th>\n",
       "      <th>Gender</th>\n",
       "      <th>Age</th>\n",
       "      <th>Region_Code</th>\n",
       "      <th>Occupation</th>\n",
       "      <th>Channel_Code</th>\n",
       "      <th>Vintage</th>\n",
       "      <th>Credit_Product</th>\n",
       "      <th>Avg_Account_Balance</th>\n",
       "      <th>Is_Active</th>\n",
       "      <th>Is_Lead</th>\n",
       "    </tr>\n",
       "  </thead>\n",
       "  <tbody>\n",
       "  </tbody>\n",
       "</table>\n",
       "</div>"
      ]
     },
     "metadata": {},
     "execution_count": 21
    }
   ],
   "metadata": {}
  },
  {
   "cell_type": "code",
   "execution_count": 22,
   "source": [
    "test[test.duplicated(keep = 'last')]"
   ],
   "outputs": [
    {
     "output_type": "execute_result",
     "data": {
      "text/plain": [
       "Empty DataFrame\n",
       "Columns: [ID, Gender, Age, Region_Code, Occupation, Channel_Code, Vintage, Credit_Product, Avg_Account_Balance, Is_Active]\n",
       "Index: []"
      ],
      "text/html": [
       "<div>\n",
       "<style scoped>\n",
       "    .dataframe tbody tr th:only-of-type {\n",
       "        vertical-align: middle;\n",
       "    }\n",
       "\n",
       "    .dataframe tbody tr th {\n",
       "        vertical-align: top;\n",
       "    }\n",
       "\n",
       "    .dataframe thead th {\n",
       "        text-align: right;\n",
       "    }\n",
       "</style>\n",
       "<table border=\"1\" class=\"dataframe\">\n",
       "  <thead>\n",
       "    <tr style=\"text-align: right;\">\n",
       "      <th></th>\n",
       "      <th>ID</th>\n",
       "      <th>Gender</th>\n",
       "      <th>Age</th>\n",
       "      <th>Region_Code</th>\n",
       "      <th>Occupation</th>\n",
       "      <th>Channel_Code</th>\n",
       "      <th>Vintage</th>\n",
       "      <th>Credit_Product</th>\n",
       "      <th>Avg_Account_Balance</th>\n",
       "      <th>Is_Active</th>\n",
       "    </tr>\n",
       "  </thead>\n",
       "  <tbody>\n",
       "  </tbody>\n",
       "</table>\n",
       "</div>"
      ]
     },
     "metadata": {},
     "execution_count": 22
    }
   ],
   "metadata": {}
  },
  {
   "cell_type": "markdown",
   "source": [
    "No duplicated rows in both the train and test datasets"
   ],
   "metadata": {}
  },
  {
   "cell_type": "markdown",
   "source": [
    "## Data Preprocessing"
   ],
   "metadata": {}
  },
  {
   "cell_type": "markdown",
   "source": [
    "### Removing 'ID' variable"
   ],
   "metadata": {}
  },
  {
   "cell_type": "code",
   "execution_count": 23,
   "source": [
    "train.drop(['ID'], inplace = True, axis = 1)\r\n",
    "test.drop(['ID'], inplace = True, axis = 1)"
   ],
   "outputs": [],
   "metadata": {}
  },
  {
   "cell_type": "markdown",
   "source": [
    "## Processing Numerical Variables\n"
   ],
   "metadata": {}
  },
  {
   "cell_type": "markdown",
   "source": [
    "Numerical variables 'Age' and 'Vintage' have a large range of values. The values can be binned and the variables can be converted to categorical variables"
   ],
   "metadata": {}
  },
  {
   "cell_type": "code",
   "execution_count": 24,
   "source": [
    "# Creating bins for 'Age' variable\r\n",
    "train['Age']=pd.cut(x = train['Age'],\r\n",
    "                        bins = [20,40,60,90], \r\n",
    "                        labels = [0, 1, 2])\r\n",
    "test['Age']=pd.cut(x = test['Age'],\r\n",
    "                        bins = [20,40,60,90], \r\n",
    "                        labels = [0, 1, 2])"
   ],
   "outputs": [],
   "metadata": {}
  },
  {
   "cell_type": "code",
   "execution_count": 25,
   "source": [
    "# Creating bins for 'Vintage' vintage\r\n",
    "train['Vintage']=pd.cut(x = train['Vintage'],\r\n",
    "                        bins = [0,36,72,144], \r\n",
    "                        labels = [0, 1, 2])\r\n",
    "test['Vintage']=pd.cut(x = test['Vintage'],\r\n",
    "                        bins = [0,36,72,144], \r\n",
    "                        labels = [0, 1, 2])"
   ],
   "outputs": [],
   "metadata": {}
  },
  {
   "cell_type": "code",
   "execution_count": 26,
   "source": [
    "for col in ['Age','Vintage']:    \r\n",
    "    train[col] = train[col].astype(np.int32)\r\n",
    "    test[col] = test[col].astype(np.int32)"
   ],
   "outputs": [],
   "metadata": {}
  },
  {
   "cell_type": "markdown",
   "source": [
    "'Avg_Account_Balance' deserves some special attention as it appears to be highly skewed. "
   ],
   "metadata": {}
  },
  {
   "cell_type": "code",
   "execution_count": 27,
   "source": [
    "# Square Root Transformation\r\n",
    "sqrt_avgaccb = train['Avg_Account_Balance']**(.5)\r\n",
    "sns.distplot(sqrt_avgaccb)"
   ],
   "outputs": [
    {
     "output_type": "execute_result",
     "data": {
      "text/plain": [
       "<AxesSubplot:xlabel='Avg_Account_Balance', ylabel='Density'>"
      ]
     },
     "metadata": {},
     "execution_count": 27
    },
    {
     "output_type": "display_data",
     "data": {
      "text/plain": [
       "<Figure size 432x288 with 1 Axes>"
      ],
      "image/png": "[encoded data removed]"
     },
     "metadata": {
      "needs_background": "light"
     }
    }
   ],
   "metadata": {}
  },
  {
   "cell_type": "code",
   "execution_count": 28,
   "source": [
    "# Reciprocal Transformation\r\n",
    "recip_avgaccb = 1/train['Avg_Account_Balance']\r\n",
    "sns.distplot(recip_avgaccb)"
   ],
   "outputs": [
    {
     "output_type": "execute_result",
     "data": {
      "text/plain": [
       "<AxesSubplot:xlabel='Avg_Account_Balance', ylabel='Density'>"
      ]
     },
     "metadata": {},
     "execution_count": 28
    },
    {
     "output_type": "display_data",
     "data": {
      "text/plain": [
       "<Figure size 432x288 with 1 Axes>"
      ],
      "image/png": "[encoded data removed]"
     },
     "metadata": {
      "needs_background": "light"
     }
    }
   ],
   "metadata": {}
  },
  {
   "cell_type": "code",
   "execution_count": 29,
   "source": [
    "# Log Tranformation\r\n",
    "log_avgaccb = np.log(train['Avg_Account_Balance'])\r\n",
    "sns.distplot(log_avgaccb)"
   ],
   "outputs": [
    {
     "output_type": "execute_result",
     "data": {
      "text/plain": [
       "<AxesSubplot:xlabel='Avg_Account_Balance', ylabel='Density'>"
      ]
     },
     "metadata": {},
     "execution_count": 29
    },
    {
     "output_type": "display_data",
     "data": {
      "text/plain": [
       "<Figure size 432x288 with 1 Axes>"
      ],
      "image/png": "[encoded data removed]"
     },
     "metadata": {
      "needs_background": "light"
     }
    }
   ],
   "metadata": {}
  },
  {
   "cell_type": "markdown",
   "source": [
    "Out of three tranformations above, it is the log transformation that is most effective, transforming the variable into one with a neat Gaussian distribution."
   ],
   "metadata": {}
  },
  {
   "cell_type": "code",
   "execution_count": 30,
   "source": [
    "# Transforming the variable 'Avg_Account_Balance' with Log\r\n",
    "train['Avg_Account_Balance'] = np.log(train['Avg_Account_Balance'])\r\n",
    "test['Avg_Account_Balance'] = np.log(test['Avg_Account_Balance'])"
   ],
   "outputs": [],
   "metadata": {}
  },
  {
   "cell_type": "markdown",
   "source": [
    "## Encoding categorical variables"
   ],
   "metadata": {}
  },
  {
   "cell_type": "code",
   "execution_count": 31,
   "source": [
    "# Checking the number of labels in each categorical variable\r\n",
    "for col in ['Gender','Region_Code','Occupation','Channel_Code','Credit_Product','Is_Active']:\r\n",
    "    print(col,\"; \",len(train[col].unique()),'labels')"
   ],
   "outputs": [
    {
     "output_type": "stream",
     "name": "stdout",
     "text": [
      "Gender ;  2 labels\n",
      "Region_Code ;  35 labels\n",
      "Occupation ;  4 labels\n",
      "Channel_Code ;  4 labels\n",
      "Credit_Product ;  3 labels\n",
      "Is_Active ;  2 labels\n"
     ]
    }
   ],
   "metadata": {}
  },
  {
   "cell_type": "code",
   "execution_count": 32,
   "source": [
    "for col in ['Gender','Region_Code','Occupation','Channel_Code','Credit_Product','Is_Active']:\r\n",
    "    print(col,\"; \",len(test[col].unique()),'labels')"
   ],
   "outputs": [
    {
     "output_type": "stream",
     "name": "stdout",
     "text": [
      "Gender ;  2 labels\n",
      "Region_Code ;  35 labels\n",
      "Occupation ;  4 labels\n",
      "Channel_Code ;  4 labels\n",
      "Credit_Product ;  3 labels\n",
      "Is_Active ;  2 labels\n"
     ]
    }
   ],
   "metadata": {}
  },
  {
   "cell_type": "markdown",
   "source": [
    "The labels in the categorical variables are consistent in both the train and test dataset. "
   ],
   "metadata": {}
  },
  {
   "cell_type": "markdown",
   "source": [
    "The categorical variables are encoded using LabelEncoder. One-hot encoding is avoided as it is not suitable for tree-based models. It creates absence of levels which decreases the efficiency of these models. Thus, reduces the model accuracy considerably."
   ],
   "metadata": {}
  },
  {
   "cell_type": "code",
   "execution_count": 33,
   "source": [
    "# Initiating the packages for encoding\r\n",
    "encoder = LabelEncoder()\r\n",
    "\r\n",
    "# Creating a list of categorical columns to iterate over\r\n",
    "cat_cols = ['Gender','Region_Code','Occupation','Channel_Code','Credit_Product','Is_Active']\r\n",
    "\r\n",
    "for col in cat_cols: \r\n",
    "    le = LabelEncoder()\r\n",
    "    train[col] = le.fit_transform(train[col])\r\n",
    "    test[col] = le.fit_transform(test[col])"
   ],
   "outputs": [],
   "metadata": {}
  },
  {
   "cell_type": "code",
   "execution_count": 34,
   "source": [
    "train.info()"
   ],
   "outputs": [
    {
     "output_type": "stream",
     "name": "stdout",
     "text": [
      "<class 'pandas.core.frame.DataFrame'>\n",
      "RangeIndex: 245725 entries, 0 to 245724\n",
      "Data columns (total 10 columns):\n",
      " #   Column               Non-Null Count   Dtype  \n",
      "---  ------               --------------   -----  \n",
      " 0   Gender               245725 non-null  int32  \n",
      " 1   Age                  245725 non-null  int32  \n",
      " 2   Region_Code          245725 non-null  int32  \n",
      " 3   Occupation           245725 non-null  int32  \n",
      " 4   Channel_Code         245725 non-null  int32  \n",
      " 5   Vintage              245725 non-null  int32  \n",
      " 6   Credit_Product       245725 non-null  int32  \n",
      " 7   Avg_Account_Balance  245725 non-null  float64\n",
      " 8   Is_Active            245725 non-null  int32  \n",
      " 9   Is_Lead              245725 non-null  int64  \n",
      "dtypes: float64(1), int32(8), int64(1)\n",
      "memory usage: 11.2 MB\n"
     ]
    }
   ],
   "metadata": {}
  },
  {
   "cell_type": "code",
   "execution_count": 35,
   "source": [
    "test.info()"
   ],
   "outputs": [
    {
     "output_type": "stream",
     "name": "stdout",
     "text": [
      "<class 'pandas.core.frame.DataFrame'>\n",
      "RangeIndex: 105312 entries, 0 to 105311\n",
      "Data columns (total 9 columns):\n",
      " #   Column               Non-Null Count   Dtype  \n",
      "---  ------               --------------   -----  \n",
      " 0   Gender               105312 non-null  int32  \n",
      " 1   Age                  105312 non-null  int32  \n",
      " 2   Region_Code          105312 non-null  int32  \n",
      " 3   Occupation           105312 non-null  int32  \n",
      " 4   Channel_Code         105312 non-null  int32  \n",
      " 5   Vintage              105312 non-null  int32  \n",
      " 6   Credit_Product       105312 non-null  int32  \n",
      " 7   Avg_Account_Balance  105312 non-null  float64\n",
      " 8   Is_Active            105312 non-null  int32  \n",
      "dtypes: float64(1), int32(8)\n",
      "memory usage: 4.0 MB\n"
     ]
    }
   ],
   "metadata": {}
  },
  {
   "cell_type": "markdown",
   "source": [
    "## Missing Value Imputation"
   ],
   "metadata": {}
  },
  {
   "cell_type": "markdown",
   "source": [
    "The best method for missing value imputation in this case is to impute the most frequent values as K-NN imputation cannot be used as the test dataset doesn't have the target variable. It is incomplete and therefore K-NN cannot predict missing values for independent variables in the test dataset. "
   ],
   "metadata": {}
  },
  {
   "cell_type": "code",
   "execution_count": 36,
   "source": [
    "train = train.apply(lambda x:x.fillna(x.value_counts().index[0]))\r\n",
    "test = test.apply(lambda x:x.fillna(x.value_counts().index[0]))"
   ],
   "outputs": [],
   "metadata": {}
  },
  {
   "cell_type": "code",
   "execution_count": 37,
   "source": [
    "train.info()"
   ],
   "outputs": [
    {
     "output_type": "stream",
     "name": "stdout",
     "text": [
      "<class 'pandas.core.frame.DataFrame'>\n",
      "RangeIndex: 245725 entries, 0 to 245724\n",
      "Data columns (total 10 columns):\n",
      " #   Column               Non-Null Count   Dtype  \n",
      "---  ------               --------------   -----  \n",
      " 0   Gender               245725 non-null  int32  \n",
      " 1   Age                  245725 non-null  int32  \n",
      " 2   Region_Code          245725 non-null  int32  \n",
      " 3   Occupation           245725 non-null  int32  \n",
      " 4   Channel_Code         245725 non-null  int32  \n",
      " 5   Vintage              245725 non-null  int32  \n",
      " 6   Credit_Product       245725 non-null  int32  \n",
      " 7   Avg_Account_Balance  245725 non-null  float64\n",
      " 8   Is_Active            245725 non-null  int32  \n",
      " 9   Is_Lead              245725 non-null  int64  \n",
      "dtypes: float64(1), int32(8), int64(1)\n",
      "memory usage: 11.2 MB\n"
     ]
    }
   ],
   "metadata": {}
  },
  {
   "cell_type": "markdown",
   "source": [
    "## Scaling"
   ],
   "metadata": {}
  },
  {
   "cell_type": "code",
   "execution_count": 38,
   "source": [
    "from sklearn.preprocessing import StandardScaler\r\n",
    "sc = StandardScaler()\r\n",
    "train[['Age','Region_Code','Occupation','Channel_Code','Vintage','Avg_Account_Balance','Gender','Credit_Product','Is_Active']] = sc.fit_transform(train[['Age','Region_Code','Occupation','Channel_Code','Vintage','Avg_Account_Balance','Gender','Credit_Product','Is_Active']])\r\n",
    "test = sc.transform(test)"
   ],
   "outputs": [],
   "metadata": {}
  },
  {
   "cell_type": "code",
   "execution_count": 39,
   "source": [
    "train.info()"
   ],
   "outputs": [
    {
     "output_type": "stream",
     "name": "stdout",
     "text": [
      "<class 'pandas.core.frame.DataFrame'>\n",
      "RangeIndex: 245725 entries, 0 to 245724\n",
      "Data columns (total 10 columns):\n",
      " #   Column               Non-Null Count   Dtype  \n",
      "---  ------               --------------   -----  \n",
      " 0   Gender               245725 non-null  float64\n",
      " 1   Age                  245725 non-null  float64\n",
      " 2   Region_Code          245725 non-null  float64\n",
      " 3   Occupation           245725 non-null  float64\n",
      " 4   Channel_Code         245725 non-null  float64\n",
      " 5   Vintage              245725 non-null  float64\n",
      " 6   Credit_Product       245725 non-null  float64\n",
      " 7   Avg_Account_Balance  245725 non-null  float64\n",
      " 8   Is_Active            245725 non-null  float64\n",
      " 9   Is_Lead              245725 non-null  int64  \n",
      "dtypes: float64(9), int64(1)\n",
      "memory usage: 18.7 MB\n"
     ]
    }
   ],
   "metadata": {}
  },
  {
   "cell_type": "code",
   "execution_count": 40,
   "source": [
    "#test = pd.DataFrame(test)"
   ],
   "outputs": [],
   "metadata": {}
  },
  {
   "cell_type": "markdown",
   "source": [
    "## Splitting the Train dataset into X and y"
   ],
   "metadata": {}
  },
  {
   "cell_type": "code",
   "execution_count": 41,
   "source": [
    "X= train.drop(columns = ['Is_Lead'], axis=1)\r\n",
    "y= train['Is_Lead']"
   ],
   "outputs": [],
   "metadata": {}
  },
  {
   "cell_type": "markdown",
   "source": [
    "## Feature Selection"
   ],
   "metadata": {}
  },
  {
   "cell_type": "markdown",
   "source": [
    "### 1. Correlation Heat Map"
   ],
   "metadata": {}
  },
  {
   "cell_type": "code",
   "execution_count": 42,
   "source": [
    "# Getting the correlations of each features in dataset\r\n",
    "corrmat = train.corr()\r\n",
    "top_corr_features = corrmat.index\r\n",
    "plt.figure(figsize=(20,20))\r\n",
    "\r\n",
    "# Plotting the heat map\r\n",
    "g=sns.heatmap(train[top_corr_features].corr(),annot=True,cmap=\"RdYlGn\")"
   ],
   "outputs": [
    {
     "output_type": "display_data",
     "data": {
      "text/plain": [
       "<Figure size 1440x1440 with 2 Axes>"
      ],
      "image/png": "[encoded data removed]"
     },
     "metadata": {
      "needs_background": "light"
     }
    }
   ],
   "metadata": {}
  },
  {
   "cell_type": "markdown",
   "source": [
    "### 2. Feature Selection with Anova Fscore"
   ],
   "metadata": {}
  },
  {
   "cell_type": "markdown",
   "source": [
    "ANOVA with F-score can be used for feature selection with numerical and categorical input for a classification problem."
   ],
   "metadata": {}
  },
  {
   "cell_type": "code",
   "execution_count": 43,
   "source": [
    "# Defining feature selection \r\n",
    "fs = SelectKBest(score_func=f_classif,k='all')\r\n",
    "\r\n",
    "# Applying feature selection\r\n",
    "fs_fit = fs.fit(X,y)\r\n",
    "dfscores = pd.DataFrame(fs_fit.scores_)\r\n",
    "dfcolumns = pd.DataFrame(X.columns)\r\n",
    "\r\n",
    "# Concatenating two dataframes for better visualization \r\n",
    "featureScores = pd.concat([dfcolumns,dfscores],axis=1)\r\n",
    "featureScores.columns = ['Specs','Score']  #naming the dataframe columns\r\n",
    "print(featureScores)\r\n",
    "\r\n",
    "\r\n",
    "print(fs.get_support())"
   ],
   "outputs": [
    {
     "output_type": "stream",
     "name": "stdout",
     "text": [
      "                 Specs          Score\n",
      "0               Gender    1282.895877\n",
      "1                  Age   12891.271956\n",
      "2          Region_Code     963.664144\n",
      "3           Occupation      37.880216\n",
      "4         Channel_Code   17993.767753\n",
      "5              Vintage   23014.793926\n",
      "6       Credit_Product  118533.617237\n",
      "7  Avg_Account_Balance    1327.046407\n",
      "8            Is_Active    1819.062919\n",
      "[ True  True  True  True  True  True  True  True  True]\n"
     ]
    }
   ],
   "metadata": {}
  },
  {
   "cell_type": "markdown",
   "source": [],
   "metadata": {}
  },
  {
   "cell_type": "markdown",
   "source": [
    "## Building the Machine Learning Models and Stratified K-Fold Cross Validation"
   ],
   "metadata": {}
  },
  {
   "cell_type": "markdown",
   "source": [
    "Our train dataset contains imbalanced proportions of labels in the target variable. Therefore, it is advisable to use to stratified k-fold cross validation during model building and evaluation to ensure both classes of target variable are equally represented."
   ],
   "metadata": {}
  },
  {
   "cell_type": "code",
   "execution_count": 44,
   "source": [
    "# Implementing cross validation\r\n",
    "def skfold_cv(X, y, algorithm, params,n_jobs=-1):\r\n",
    "    skf = StratifiedKFold(n_splits=10, random_state=1, shuffle = True)\r\n",
    " \r\n",
    " \r\n",
    "    for train_index , test_index in skf.split(X,y):\r\n",
    "        X_train , X_test = X.iloc[train_index,:],X.iloc[test_index,:]\r\n",
    "        y_train , y_test = y[train_index] , y[test_index]\r\n",
    "\r\n",
    "        model = algorithm(**params) \r\n",
    "        model.fit(X_train,y_train)\r\n",
    "        pred = model.predict_proba(X_test)[:,1]\r\n",
    "\r\n",
    "        score = roc_auc_score(y_test, pred)\r\n",
    "        print(f\"score: {score}\")\r\n",
    "        \r\n",
    "    return model\r\n",
    "   "
   ],
   "outputs": [],
   "metadata": {}
  },
  {
   "cell_type": "markdown",
   "source": [
    "Our dataset has large number of observations compared to the number of features. Hence, we should low bias/high variance algorithms like K-NN, tree-based algorithms."
   ],
   "metadata": {}
  },
  {
   "cell_type": "markdown",
   "source": [
    "### 1. Logistic Regression"
   ],
   "metadata": {}
  },
  {
   "cell_type": "code",
   "execution_count": 45,
   "source": [
    "lg_params = {}\r\n",
    "lg_model = skfold_cv(X, y,LogisticRegression,lg_params)\r\n",
    "\r\n"
   ],
   "outputs": [
    {
     "output_type": "stream",
     "name": "stdout",
     "text": [
      "score: 0.8495657959777986\n",
      "score: 0.853836780122816\n",
      "score: 0.8499857485132363\n",
      "score: 0.8557464894170149\n",
      "score: 0.8497711250215727\n",
      "score: 0.8542958775405705\n",
      "score: 0.8501418600829411\n",
      "score: 0.8588853259949134\n",
      "score: 0.8569640597429375\n",
      "score: 0.8536670045156768\n"
     ]
    }
   ],
   "metadata": {}
  },
  {
   "cell_type": "markdown",
   "source": [
    "### 2. K-NN Classifier"
   ],
   "metadata": {}
  },
  {
   "cell_type": "code",
   "execution_count": 46,
   "source": [
    "knn_params = {'n_neighbors': 5, 'metric': 'minkowski', 'p': 2}\r\n",
    "knn_model = skfold_cv(X, y,KNeighborsClassifier,knn_params)\r\n"
   ],
   "outputs": [
    {
     "output_type": "stream",
     "name": "stdout",
     "text": [
      "score: 0.8122930189150206\n",
      "score: 0.8180773277196515\n",
      "score: 0.8173517429849296\n",
      "score: 0.8179282458738143\n",
      "score: 0.8124539625082383\n",
      "score: 0.8178678032609876\n",
      "score: 0.8144191133155289\n",
      "score: 0.8270193938109514\n",
      "score: 0.8232162515488026\n",
      "score: 0.8132692795920645\n"
     ]
    }
   ],
   "metadata": {}
  },
  {
   "cell_type": "markdown",
   "source": [
    "### 3. Random Forest Classifier"
   ],
   "metadata": {}
  },
  {
   "cell_type": "code",
   "execution_count": 47,
   "source": [
    "rf_params = {'criterion': 'entropy', 'random_state': 0}\r\n",
    "rf_model = skfold_cv(X, y,RandomForestClassifier,rf_params)"
   ],
   "outputs": [
    {
     "output_type": "stream",
     "name": "stdout",
     "text": [
      "score: 0.8198963257651724\n",
      "score: 0.8229934682775506\n",
      "score: 0.8237362095288345\n",
      "score: 0.8205618878615297\n",
      "score: 0.81832921595241\n",
      "score: 0.8234335696642784\n",
      "score: 0.817589539885891\n",
      "score: 0.830670846801048\n",
      "score: 0.8280248403734135\n",
      "score: 0.8189385225462157\n"
     ]
    }
   ],
   "metadata": {}
  },
  {
   "cell_type": "markdown",
   "source": [
    "### 4. XGBoost Classifier"
   ],
   "metadata": {}
  },
  {
   "cell_type": "code",
   "execution_count": 48,
   "source": [
    "xgb_params = {'learning_rate': 0.05,'verbosity': 0}\r\n",
    "xgb_model = skfold_cv(X, y,XGBClassifier,xgb_params) "
   ],
   "outputs": [
    {
     "output_type": "stream",
     "name": "stdout",
     "text": [
      "score: 0.8665830788732248\n",
      "score: 0.8714442902051182\n",
      "score: 0.8687164315294911\n",
      "score: 0.8707346355408558\n",
      "score: 0.8664834804665942\n",
      "score: 0.8691104466172255\n",
      "score: 0.8658294516061658\n",
      "score: 0.8770773432775226\n",
      "score: 0.8744894222395666\n",
      "score: 0.8696691403665294\n"
     ]
    }
   ],
   "metadata": {}
  },
  {
   "cell_type": "markdown",
   "source": [
    "### 5. CatBoost Classifier"
   ],
   "metadata": {}
  },
  {
   "cell_type": "code",
   "execution_count": 49,
   "source": [
    "catb_params = {'n_estimators':100, 'learning_rate': 0.05,'verbose':0}\r\n",
    "catb_model = skfold_cv(X, y, CatBoostClassifier, catb_params)"
   ],
   "outputs": [
    {
     "output_type": "stream",
     "name": "stdout",
     "text": [
      "score: 0.8666088845805852\n",
      "score: 0.8708947004861193\n",
      "score: 0.8682815557077082\n",
      "score: 0.8709230689166791\n",
      "score: 0.8654749893958176\n",
      "score: 0.8692665111998502\n",
      "score: 0.8651615645810137\n",
      "score: 0.8761284031999613\n",
      "score: 0.8740643353080444\n",
      "score: 0.868751686853811\n"
     ]
    }
   ],
   "metadata": {
    "tags": []
   }
  },
  {
   "cell_type": "markdown",
   "source": [
    "### 6. LightGBM Classifier"
   ],
   "metadata": {}
  },
  {
   "cell_type": "code",
   "execution_count": 50,
   "source": [
    "lgbm_params = {'n_estimators':100, 'learning_rate': 0.05,'verbose':0}\r\n",
    "lgbm_model = skfold_cv(X, y, LGBMClassifier, lgbm_params)"
   ],
   "outputs": [
    {
     "output_type": "stream",
     "name": "stdout",
     "text": [
      "[LightGBM] [Warning] Auto-choosing row-wise multi-threading, the overhead of testing was 0.004005 seconds.\n",
      "You can set `force_row_wise=true` to remove the overhead.\n",
      "And if memory is not enough, you can set `force_col_wise=true`.\n",
      "score: 0.8672107401239786\n",
      "[LightGBM] [Warning] Auto-choosing row-wise multi-threading, the overhead of testing was 0.003393 seconds.\n",
      "You can set `force_row_wise=true` to remove the overhead.\n",
      "And if memory is not enough, you can set `force_col_wise=true`.\n",
      "score: 0.8716595086146672\n",
      "[LightGBM] [Warning] Auto-choosing row-wise multi-threading, the overhead of testing was 0.003840 seconds.\n",
      "You can set `force_row_wise=true` to remove the overhead.\n",
      "And if memory is not enough, you can set `force_col_wise=true`.\n",
      "score: 0.8687408231628002\n",
      "[LightGBM] [Warning] Auto-choosing row-wise multi-threading, the overhead of testing was 0.003632 seconds.\n",
      "You can set `force_row_wise=true` to remove the overhead.\n",
      "And if memory is not enough, you can set `force_col_wise=true`.\n",
      "score: 0.8711780690276084\n",
      "[LightGBM] [Warning] Auto-choosing row-wise multi-threading, the overhead of testing was 0.004154 seconds.\n",
      "You can set `force_row_wise=true` to remove the overhead.\n",
      "And if memory is not enough, you can set `force_col_wise=true`.\n",
      "score: 0.8665420158102448\n",
      "[LightGBM] [Warning] Auto-choosing row-wise multi-threading, the overhead of testing was 0.005384 seconds.\n",
      "You can set `force_row_wise=true` to remove the overhead.\n",
      "And if memory is not enough, you can set `force_col_wise=true`.\n",
      "score: 0.8696885634379895\n",
      "[LightGBM] [Warning] Auto-choosing row-wise multi-threading, the overhead of testing was 0.004467 seconds.\n",
      "You can set `force_row_wise=true` to remove the overhead.\n",
      "And if memory is not enough, you can set `force_col_wise=true`.\n",
      "score: 0.8659472380967446\n",
      "[LightGBM] [Warning] Auto-choosing row-wise multi-threading, the overhead of testing was 0.004113 seconds.\n",
      "You can set `force_row_wise=true` to remove the overhead.\n",
      "And if memory is not enough, you can set `force_col_wise=true`.\n",
      "score: 0.8774129269025576\n",
      "[LightGBM] [Warning] Auto-choosing row-wise multi-threading, the overhead of testing was 0.006031 seconds.\n",
      "You can set `force_row_wise=true` to remove the overhead.\n",
      "And if memory is not enough, you can set `force_col_wise=true`.\n",
      "score: 0.8748184843013892\n",
      "[LightGBM] [Warning] Auto-choosing row-wise multi-threading, the overhead of testing was 0.005912 seconds.\n",
      "You can set `force_row_wise=true` to remove the overhead.\n",
      "And if memory is not enough, you can set `force_col_wise=true`.\n",
      "score: 0.8698807822547798\n"
     ]
    }
   ],
   "metadata": {}
  },
  {
   "cell_type": "markdown",
   "source": [
    "## Predicting test results\r\n",
    "Since, the ensemble models are all effective with AUC score of ~86%. The predictions from the three models are calculated."
   ],
   "metadata": {}
  },
  {
   "cell_type": "code",
   "execution_count": 51,
   "source": [
    "pred_xgb = xgb_model.predict_proba(test)[:,1]\r\n",
    "pred_catb = catb_model.predict_proba(test)[:,1]\r\n",
    "pred_lgbm = lgbm_model.predict_proba(test)[:,1]"
   ],
   "outputs": [],
   "metadata": {}
  },
  {
   "cell_type": "markdown",
   "source": [
    "The average of these predictions are taken as the final predicted values. "
   ],
   "metadata": {}
  },
  {
   "cell_type": "code",
   "execution_count": 52,
   "source": [
    "pred_avg = (pred_xgb + pred_catb + pred_lgbm)/3"
   ],
   "outputs": [],
   "metadata": {}
  }
 ],
 "metadata": {
  "kernelspec": {
   "name": "python3",
   "display_name": "Python 3.8.5 64-bit ('base': conda)"
  },
  "language_info": {
   "codemirror_mode": {
    "name": "ipython",
    "version": 3
   },
   "file_extension": ".py",
   "mimetype": "text/x-python",
   "name": "python",
   "nbconvert_exporter": "python",
   "pygments_lexer": "ipython3",
   "version": "3.8.5"
  },
  "interpreter": {
   "hash": "b26c25461d5fad406ddb92b02c3fdc9d2144e8b65eac93a0f31d88397ea2865e"
  }
 },
 "nbformat": 4,
 "nbformat_minor": 2
}